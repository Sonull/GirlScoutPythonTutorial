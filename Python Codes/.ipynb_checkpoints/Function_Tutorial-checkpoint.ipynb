{
 "cells": [
  {
   "cell_type": "markdown",
   "metadata": {},
   "source": [
    "# Girl Scout - Coding for Good\n",
    "**Creating Function Using Numpy Tutorial**"
   ]
  },
  {
   "cell_type": "code",
   "execution_count": 1,
   "metadata": {},
   "outputs": [],
   "source": [
    "import numpy"
   ]
  },
  {
   "cell_type": "markdown",
   "metadata": {},
   "source": [
    "## Introduction to Function"
   ]
  },
  {
   "cell_type": "code",
   "execution_count": 13,
   "metadata": {},
   "outputs": [
    {
     "name": "stdout",
     "output_type": "stream",
     "text": [
      "Happy Birthday to you!\n",
      "Happy Birthday to you!\n",
      "Happy Birthday, dear Abcd.\n",
      "Happy Birthday to you!\n"
     ]
    }
   ],
   "source": [
    "#Create the function\n",
    "def happyBirthday(name): #program does nothing as written\n",
    "    print(\"Happy Birthday to you!\")\n",
    "    print(\"Happy Birthday to you!\")\n",
    "    print(\"Happy Birthday, dear\",name+\".\")\n",
    "    print(\"Happy Birthday to you!\")\n",
    "    \n",
    "#Create an input variable\n",
    "your_name = \"Abcd\"\n",
    "\n",
    "#Test the function\n",
    "happyBirthday(your_name)    "
   ]
  },
  {
   "cell_type": "code",
   "execution_count": 1,
   "metadata": {},
   "outputs": [
    {
     "name": "stdout",
     "output_type": "stream",
     "text": [
      "In function f\n",
      "When does this print?\n"
     ]
    }
   ],
   "source": [
    "#Create an empty function (function that does not require an input variable)\n",
    "def f():\n",
    "    print('In function f')\n",
    "    print('When does this print?')\n",
    "    \n",
    "#test the empty function    \n",
    "f()"
   ]
  },
  {
   "cell_type": "code",
   "execution_count": 2,
   "metadata": {},
   "outputs": [
    {
     "name": "stdout",
     "output_type": "stream",
     "text": [
      "Enter the Birthday person's name: Jennifer\n",
      "Happy Birthday to you!\n",
      "Happy Birthday to you!\n",
      "Happy Birthday, dear Jennifer.\n",
      "Happy Birthday to you!\n"
     ]
    }
   ],
   "source": [
    "#Create an Interactive Function\n",
    "def happyBirthday(person):\n",
    "    print(\"Happy Birthday to you!\")\n",
    "    print(\"Happy Birthday to you!\")\n",
    "    print(\"Happy Birthday, dear \" + person + \".\")\n",
    "    print(\"Happy Birthday to you!\")\n",
    "\n",
    "def main():\n",
    "    userName = input(\"Enter the Birthday person's name: \")\n",
    "    happyBirthday(userName)\n",
    "\n",
    "main()"
   ]
  },
  {
   "cell_type": "code",
   "execution_count": 16,
   "metadata": {},
   "outputs": [
    {
     "name": "stdout",
     "output_type": "stream",
     "text": [
      "9\n",
      "25\n"
     ]
    }
   ],
   "source": [
    "def square_function(x):\n",
    "    return x*x\n",
    "\n",
    "print(square_function(3))\n",
    "print(square_function(3) + square_function(4)) "
   ]
  },
  {
   "cell_type": "code",
   "execution_count": 17,
   "metadata": {},
   "outputs": [
    {
     "name": "stdout",
     "output_type": "stream",
     "text": [
      "Franklin, Benjamin\n",
      "Harrington, Andrew\n"
     ]
    }
   ],
   "source": [
    "def lastFirst(firstName, lastName):\n",
    "    separator = ', '\n",
    "    result = lastName + separator + firstName\n",
    "    return result\n",
    "\n",
    "print(lastFirst('Benjamin', 'Franklin'))\n",
    "print(lastFirst('Andrew', 'Harrington'))"
   ]
  },
  {
   "cell_type": "code",
   "execution_count": 1,
   "metadata": {},
   "outputs": [
    {
     "name": "stdout",
     "output_type": "stream",
     "text": [
      "The sum of 2 and 3 is 5.\n",
      "The sum of 1234567890123 and 535790269358 is 1770358159481.\n",
      "Enter an integer: 3\n",
      "Enter another integer: 4\n",
      "The sum of 3 and 4 is 7.\n"
     ]
    }
   ],
   "source": [
    "def sumProblemString(x, y):\n",
    "    sum = x + y\n",
    "    return 'The sum of {} and {} is {}.'.format(x, y, sum)\n",
    "\n",
    "def main():\n",
    "    print(sumProblemString(2, 3))\n",
    "    print(sumProblemString(1234567890123, 535790269358))\n",
    "    a = int(input(\"Enter an integer: \"))\n",
    "    b = int(input(\"Enter another integer: \"))\n",
    "    print(sumProblemString(a, b))\n",
    "\n",
    "main() "
   ]
  },
  {
   "cell_type": "code",
   "execution_count": 19,
   "metadata": {},
   "outputs": [
    {
     "name": "stdout",
     "output_type": "stream",
     "text": [
      "5 multiplied and divided by 12 equals to 60.416666666666664\n"
     ]
    },
    {
     "data": {
      "text/plain": [
       "60.416666666666664"
      ]
     },
     "execution_count": 19,
     "metadata": {},
     "output_type": "execute_result"
    }
   ],
   "source": [
    "#example function, magic_calc\n",
    "def magic_calc(x,y):\n",
    "    z = (x * y) + (x / y)\n",
    "    print(x,\"multiplied and divided by\",y,\"equals to\", z)\n",
    "    return z\n",
    "    \n",
    "a = 5\n",
    "b = 12\n",
    "magic_calc(a,b)"
   ]
  },
  {
   "cell_type": "markdown",
   "metadata": {},
   "source": [
    "## Cookie Profit Function Version 1 (Level - Beginner)"
   ]
  },
  {
   "cell_type": "markdown",
   "metadata": {},
   "source": [
    "This function is used to calculate the profit collected from selling a certain number of cookie.\n",
    "The following conditions must be met to use this function :\n",
    "- We have sold the cookies, therefore we know the number of cookies sold already\n",
    "- We know the cost of making each cookie\n",
    "- We know the selling price for each cookie"
   ]
  },
  {
   "cell_type": "code",
   "execution_count": 66,
   "metadata": {},
   "outputs": [],
   "source": [
    "def cookie_profit(n_cookies, cost, selling_price):\n",
    "    revenue = selling_price*n_cookies\n",
    "    total_cost = cost*n_cookies\n",
    "    profit = revenue-total_cost\n",
    "    print(\"============= Cookie Profit Calculator ==============\")\n",
    "    print(\"Number of Cookies Sold         :\", n_cookies)\n",
    "    print(\"Total Cost                     :\", total_cost)\n",
    "    print(\"Total Money Collected          :\", revenue)\n",
    "    print(\"Total Profit Received          :\", profit)\n",
    "    print(\"=====================================================\")\n",
    "    return(profit)\n",
    "\n",
    "def input_box():\n",
    "    print(\"Number of Cookies Sold :\")\n",
    "    n_cookies = float(input())\n",
    "    print(\"Cost to Make Each Cookie :\")\n",
    "    cost = float(input())\n",
    "    print(\"Selling Price per Cookie :\")\n",
    "    revenue = float(input())\n",
    "    cookie_profit(n_cookies,cost,revenue)"
   ]
  },
  {
   "cell_type": "markdown",
   "metadata": {},
   "source": [
    "**Let's try the function! Calculate the profit of selling 20 Cookies with Cost of 75 Cents to make each cookie and selling price of 2 Dollars each.**"
   ]
  },
  {
   "cell_type": "code",
   "execution_count": 54,
   "metadata": {},
   "outputs": [
    {
     "name": "stdout",
     "output_type": "stream",
     "text": [
      "Number of Cookies Sold :\n",
      "20\n",
      "Cost to Make Each Cookie :\n",
      ".75\n",
      "Selling Price per Cookie :\n",
      "2\n",
      "============= Cookie Profit Calculator ==============\n",
      "Number of Cookies Sold         : 20.0\n",
      "Total Cost                     : 15.0\n",
      "Total Money Collected          : 40.0\n",
      "Total Profit Received          : 25.0\n",
      "=====================================================\n"
     ]
    }
   ],
   "source": [
    "input_box()"
   ]
  },
  {
   "cell_type": "markdown",
   "metadata": {},
   "source": [
    "## Cookie Profit Function Version 2 (Level - Intermediate)"
   ]
  },
  {
   "cell_type": "markdown",
   "metadata": {},
   "source": [
    "Now, let's consider the following scenario:\n",
    "- We have not sold the cookie yet but would like to set a target of how many cookies to sell to achieve a certain amount of Profit (a target profit must be known)\n",
    "\n",
    "With the above scenario, can we use the above function? \n",
    "\n",
    "No, but we can modify the function."
   ]
  },
  {
   "cell_type": "code",
   "execution_count": 85,
   "metadata": {},
   "outputs": [],
   "source": [
    "def cookie_profit(n_cookies, cost, selling_price, target_profit):\n",
    "    if (n_cookies > 0 & target_profit <= 0):\n",
    "        revenue = selling_price*n_cookies\n",
    "        total_cost = cost*n_cookies\n",
    "        profit = revenue-total_cost\n",
    "    else:\n",
    "        target_n = target_profit/(selling_price-cost)\n",
    "        n_cookies = target_n\n",
    "        revenue = selling_price*n_cookies\n",
    "        total_cost = cost*n_cookies\n",
    "        profit = target_profit\n",
    "    print(\"============= Cookie Profit Calculator ==============\")\n",
    "    print(\"Number of Cookies Sold or Targeted    :\", n_cookies)\n",
    "    print(\"Total Cost                            :\", total_cost)\n",
    "    print(\"Total Money Collected                 :\", revenue)\n",
    "    print(\"Total Profit Received or Targeted     :\", profit)\n",
    "    print(\"=====================================================\")\n",
    "    return(profit)\n",
    "\n",
    "\n",
    "def input_box():\n",
    "    print(\"Number of Cookies Sold :\")\n",
    "    n_cookies = int(input())\n",
    "    print(\"Cost to Make Each Cookie :\")\n",
    "    cost = float(input())\n",
    "    print(\"Selling Price per Cookie :\")\n",
    "    revenue = float(input())\n",
    "    print(\"Target Profit to Achieve :\")\n",
    "    target_profit = int(input())\n",
    "    cookie_profit(n_cookies,cost,revenue,target_profit)"
   ]
  },
  {
   "cell_type": "markdown",
   "metadata": {},
   "source": [
    "**Let's try the modified function! Calculate the target number of cookies to sell with a target profit of 30 Dollars and the same cost and selling price per cookie!**\n",
    "(cost per cookie = $0.75 , \n",
    "\n",
    "selling price per cookie = $2.00)"
   ]
  },
  {
   "cell_type": "code",
   "execution_count": 87,
   "metadata": {},
   "outputs": [
    {
     "name": "stdout",
     "output_type": "stream",
     "text": [
      "Number of Cookies Sold :\n",
      "0\n",
      "Cost to Make Each Cookie :\n",
      ".75\n",
      "Selling Price per Cookie :\n",
      "2\n",
      "Target Profit to Achieve :\n",
      "25\n",
      "============= Cookie Profit Calculator ==============\n",
      "Number of Cookies Sold or Targeted    : 20.0\n",
      "Total Cost                            : 15.0\n",
      "Total Money Collected                 : 40.0\n",
      "Total Profit Received or Targeted     : 25\n",
      "=====================================================\n"
     ]
    }
   ],
   "source": [
    "input_box()"
   ]
  },
  {
   "cell_type": "markdown",
   "metadata": {},
   "source": [
    "### That's it! Great Job!"
   ]
  }
 ],
 "metadata": {
  "kernelspec": {
   "display_name": "Python 3",
   "language": "python",
   "name": "python3"
  },
  "language_info": {
   "codemirror_mode": {
    "name": "ipython",
    "version": 3
   },
   "file_extension": ".py",
   "mimetype": "text/x-python",
   "name": "python",
   "nbconvert_exporter": "python",
   "pygments_lexer": "ipython3",
   "version": "3.7.4"
  }
 },
 "nbformat": 4,
 "nbformat_minor": 2
}
