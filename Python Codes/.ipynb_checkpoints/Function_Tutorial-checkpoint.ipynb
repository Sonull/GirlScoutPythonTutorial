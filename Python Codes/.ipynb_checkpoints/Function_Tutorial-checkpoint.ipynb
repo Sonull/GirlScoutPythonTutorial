{
 "cells": [
  {
   "cell_type": "markdown",
   "metadata": {},
   "source": [
    "# Girl Scout - Coding for Good\n",
    "**Data Visualization Tutorial in Mathplotlib and Pandas**"
   ]
  },
  {
   "cell_type": "code",
   "execution_count": 1,
   "metadata": {},
   "outputs": [],
   "source": [
    "import numpy"
   ]
  },
  {
   "cell_type": "markdown",
   "metadata": {},
   "source": [
    "## Introduction to Function"
   ]
  },
  {
   "cell_type": "code",
   "execution_count": 13,
   "metadata": {},
   "outputs": [
    {
     "name": "stdout",
     "output_type": "stream",
     "text": [
      "Happy Birthday to you!\n",
      "Happy Birthday to you!\n",
      "Happy Birthday, dear Abcd.\n",
      "Happy Birthday to you!\n"
     ]
    }
   ],
   "source": [
    "#Create the function\n",
    "def happyBirthday(name): #program does nothing as written\n",
    "    print(\"Happy Birthday to you!\")\n",
    "    print(\"Happy Birthday to you!\")\n",
    "    print(\"Happy Birthday, dear\",name+\".\")\n",
    "    print(\"Happy Birthday to you!\")\n",
    "    \n",
    "#Create an input variable\n",
    "your_name = \"Abcd\"\n",
    "\n",
    "#Test the function\n",
    "happyBirthday(your_name)    "
   ]
  },
  {
   "cell_type": "code",
   "execution_count": 14,
   "metadata": {},
   "outputs": [
    {
     "name": "stdout",
     "output_type": "stream",
     "text": [
      "In function f\n",
      "When does this print?\n"
     ]
    }
   ],
   "source": [
    "#Create an empty function (function that does not require an input variable)\n",
    "def f():\n",
    "    print('In function f')\n",
    "    print('When does this print?')\n",
    "    \n",
    "#test the empty function    \n",
    "f()"
   ]
  },
  {
   "cell_type": "code",
   "execution_count": 15,
   "metadata": {},
   "outputs": [
    {
     "name": "stdout",
     "output_type": "stream",
     "text": [
      "Enter the Birthday person's name: Abcd\n",
      "Happy Birthday to you!\n",
      "Happy Birthday to you!\n",
      "Happy Birthday, dear Abcd.\n",
      "Happy Birthday to you!\n"
     ]
    }
   ],
   "source": [
    "#Create an Interactive Function\n",
    "def happyBirthday(person):\n",
    "    print(\"Happy Birthday to you!\")\n",
    "    print(\"Happy Birthday to you!\")\n",
    "    print(\"Happy Birthday, dear \" + person + \".\")\n",
    "    print(\"Happy Birthday to you!\")\n",
    "\n",
    "def main():\n",
    "    userName = input(\"Enter the Birthday person's name: \")\n",
    "    happyBirthday(userName)\n",
    "\n",
    "main()"
   ]
  },
  {
   "cell_type": "code",
   "execution_count": 16,
   "metadata": {},
   "outputs": [
    {
     "name": "stdout",
     "output_type": "stream",
     "text": [
      "9\n",
      "25\n"
     ]
    }
   ],
   "source": [
    "def square_function(x):\n",
    "    return x*x\n",
    "\n",
    "print(square_function(3))\n",
    "print(square_function(3) + square_function(4)) "
   ]
  },
  {
   "cell_type": "code",
   "execution_count": 17,
   "metadata": {},
   "outputs": [
    {
     "name": "stdout",
     "output_type": "stream",
     "text": [
      "Franklin, Benjamin\n",
      "Harrington, Andrew\n"
     ]
    }
   ],
   "source": [
    "def lastFirst(firstName, lastName):\n",
    "    separator = ', '\n",
    "    result = lastName + separator + firstName\n",
    "    return result\n",
    "\n",
    "print(lastFirst('Benjamin', 'Franklin'))\n",
    "print(lastFirst('Andrew', 'Harrington'))"
   ]
  },
  {
   "cell_type": "code",
   "execution_count": 18,
   "metadata": {},
   "outputs": [
    {
     "name": "stdout",
     "output_type": "stream",
     "text": [
      "The sum of 2 and 3 is 5.\n",
      "The sum of 1234567890123 and 535790269358 is 1770358159481.\n",
      "Enter an integer: 2\n",
      "Enter another integer: 5\n",
      "The sum of 2 and 5 is 7.\n"
     ]
    }
   ],
   "source": [
    "def sumProblemString(x, y):\n",
    "    sum = x + y\n",
    "    return 'The sum of {} and {} is {}.'.format(x, y, sum)\n",
    "\n",
    "def main():\n",
    "    print(sumProblemString(2, 3))\n",
    "    print(sumProblemString(1234567890123, 535790269358))\n",
    "    a = int(input(\"Enter an integer: \"))\n",
    "    b = int(input(\"Enter another integer: \"))\n",
    "    print(sumProblemString(a, b))\n",
    "\n",
    "main() "
   ]
  },
  {
   "cell_type": "code",
   "execution_count": 19,
   "metadata": {},
   "outputs": [
    {
     "name": "stdout",
     "output_type": "stream",
     "text": [
      "5 multiplied and divided by 12 equals to 60.416666666666664\n"
     ]
    },
    {
     "data": {
      "text/plain": [
       "60.416666666666664"
      ]
     },
     "execution_count": 19,
     "metadata": {},
     "output_type": "execute_result"
    }
   ],
   "source": [
    "#example function, magic_calc\n",
    "def magic_calc(x,y):\n",
    "    z = (x * y) + (x / y)\n",
    "    print(x,\"multiplied and divided by\",y,\"equals to\", z)\n",
    "    return z\n",
    "    \n",
    "a = 5\n",
    "b = 12\n",
    "magic_calc(a,b)"
   ]
  },
  {
   "cell_type": "code",
   "execution_count": 20,
   "metadata": {},
   "outputs": [],
   "source": [
    "#BMI Calculator\n",
    "person1 = \"YK\"\n",
    "height_m1 = 2\n",
    "weight_kg1 = 90\n",
    "\n",
    "person2 = \"YK's Sister\"\n",
    "height_m2 = 1.8\n",
    "weight_kg2 = 70\n",
    "\n",
    "person3 = \"YK's Brother\"\n",
    "height_m3 = 2.5\n",
    "weight_kg3 = 160"
   ]
  },
  {
   "cell_type": "code",
   "execution_count": 21,
   "metadata": {},
   "outputs": [],
   "source": [
    "def bmi_calculator(person, height_m, weight_kg):\n",
    "    bmi = weight_kg / (height_m ** 2)\n",
    "    print(\"bmi: \")\n",
    "    print(bmi)\n",
    "    if bmi < 25:\n",
    "        print(person + \" \" + \"is not overweight\")\n",
    "    else:\n",
    "        print(person + \" \" + \"is overweight\")"
   ]
  },
  {
   "cell_type": "code",
   "execution_count": 22,
   "metadata": {},
   "outputs": [
    {
     "name": "stdout",
     "output_type": "stream",
     "text": [
      "bmi: \n",
      "22.5\n",
      "YK is not overweight\n",
      "bmi: \n",
      "21.604938271604937\n",
      "YK's Sister is not overweight\n",
      "bmi: \n",
      "25.6\n",
      "YK's Brother is overweight\n"
     ]
    }
   ],
   "source": [
    "result1 = bmi_calculator(person1, height_m1, weight_kg1)\n",
    "result2 = bmi_calculator(person2, height_m2, weight_kg2)\n",
    "result3 = bmi_calculator(person3, height_m3, weight_kg3)"
   ]
  },
  {
   "cell_type": "markdown",
   "metadata": {},
   "source": [
    "### That's it! Great Job!"
   ]
  }
 ],
 "metadata": {
  "kernelspec": {
   "display_name": "Python 3",
   "language": "python",
   "name": "python3"
  },
  "language_info": {
   "codemirror_mode": {
    "name": "ipython",
    "version": 3
   },
   "file_extension": ".py",
   "mimetype": "text/x-python",
   "name": "python",
   "nbconvert_exporter": "python",
   "pygments_lexer": "ipython3",
   "version": "3.7.4"
  }
 },
 "nbformat": 4,
 "nbformat_minor": 2
}
